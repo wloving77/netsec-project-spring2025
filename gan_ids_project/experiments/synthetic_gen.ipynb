{
 "cells": [
  {
   "cell_type": "code",
   "execution_count": 1,
   "metadata": {},
   "outputs": [],
   "source": [
    "import os, sys, warnings\n",
    "from pathlib import Path\n",
    "\n",
    "warnings.filterwarnings(\"ignore\", category=UserWarning)\n",
    "warnings.filterwarnings(\"ignore\", category=FutureWarning)\n",
    "\n",
    "parent_dir = Path().resolve().parents[0]\n",
    "sys.path.append(str(parent_dir))"
   ]
  },
  {
   "cell_type": "code",
   "execution_count": 2,
   "metadata": {},
   "outputs": [],
   "source": [
    "from src.utils.utils import load_data, make_synthetic_data, train_and_evaluate_model\n",
    "from src.gan.models import NetworkAnomalyDetector, DeeperNetworkAnomalyDetector\n",
    "from src.gan.data_augmentors import CTGANAugmentor, TVAEAugmentor"
   ]
  },
  {
   "cell_type": "code",
   "execution_count": 3,
   "metadata": {},
   "outputs": [],
   "source": [
    "dataset = \"UNSW-NB15\"\n",
    "target_variable = \"Attack\"\n",
    "\n",
    "X_train, X_test, y_train, y_test = load_data(dataset, target_variable)"
   ]
  },
  {
   "cell_type": "code",
   "execution_count": 4,
   "metadata": {},
   "outputs": [],
   "source": [
    "augmentor_ctgan = CTGANAugmentor()\n",
    "augmentor_ctgan.minority_threshold = 20000"
   ]
  },
  {
   "cell_type": "code",
   "execution_count": 5,
   "metadata": {},
   "outputs": [],
   "source": [
    "model_type = DeeperNetworkAnomalyDetector  # NetworkAnomalyDetector, DeeperNetworkAnomalyDetector"
   ]
  },
  {
   "cell_type": "code",
   "execution_count": 6,
   "metadata": {},
   "outputs": [
    {
     "name": "stdout",
     "output_type": "stream",
     "text": [
      "Generating synthetic data for category: Fuzzers\n",
      "Metadata error for Fuzzers: Invalid sdtype: 'float' is not recognized. Please use one of the supported SDV sdtypes.\n",
      "Generating synthetic data for category: DoS\n",
      "Metadata error for DoS: Invalid sdtype: 'float' is not recognized. Please use one of the supported SDV sdtypes.\n",
      "Generating synthetic data for category: Reconnaissance\n",
      "Metadata error for Reconnaissance: Invalid sdtype: 'float' is not recognized. Please use one of the supported SDV sdtypes.\n",
      "Generating synthetic data for category: Analysis\n",
      "Metadata error for Analysis: Invalid sdtype: 'float' is not recognized. Please use one of the supported SDV sdtypes.\n",
      "Generating synthetic data for category: Backdoor\n",
      "Metadata error for Backdoor: Invalid sdtype: 'float' is not recognized. Please use one of the supported SDV sdtypes.\n",
      "Generating synthetic data for category: Shellcode\n",
      "Metadata error for Shellcode: Invalid sdtype: 'float' is not recognized. Please use one of the supported SDV sdtypes.\n",
      "Skipping Worms: not enough samples (175.32500000000002) for synthetic generation.\n",
      "No synthetic data generated.\n"
     ]
    }
   ],
   "source": [
    "synthetic_data = make_synthetic_data(\n",
    "    X_train,\n",
    "    y_train,\n",
    "    X_test,\n",
    "    y_test,\n",
    "    target_variable,\n",
    "    gan_augmentor=augmentor_ctgan)"
   ]
  },
  {
   "cell_type": "code",
   "execution_count": 7,
   "metadata": {},
   "outputs": [
    {
     "data": {
      "text/plain": [
       "(             dur     proto   service     state     spkts     dpkts    sbytes  \\\n",
       " 0      -0.191037  0.151816 -0.702355 -0.409407 -0.104461 -0.135777 -0.049136   \n",
       " 1      -0.109496  0.151816 -0.702355 -0.409407 -0.046022  0.172577 -0.046412   \n",
       " 2       0.040681  0.151816 -0.702355 -0.409407 -0.089851 -0.026946 -0.048529   \n",
       " 3       0.049710  0.151816  0.599052 -0.409407 -0.060632 -0.063223 -0.047019   \n",
       " 4      -0.140427  0.151816 -0.702355 -0.409407 -0.075241 -0.117639 -0.047556   \n",
       " ...          ...       ...       ...       ...       ...       ...       ...   \n",
       " 175320 -0.209780  0.420230  0.165249  0.743174 -0.133681 -0.172054 -0.049960   \n",
       " 175321 -0.131738  0.151816 -0.702355 -0.409407 -0.075241 -0.099500 -0.047064   \n",
       " 175322 -0.209780  0.420230  0.165249  0.743174 -0.133681 -0.172054 -0.049960   \n",
       " 175323 -0.209780  0.420230  0.165249  0.743174 -0.133681 -0.172054 -0.049960   \n",
       " 175324 -0.209780  0.420230  0.165249  0.743174 -0.133681 -0.172054 -0.049960   \n",
       " \n",
       "           dbytes      rate     sload  ...  ct_state_ttl  ct_flw_http_mthd  \\\n",
       " 0      -0.102730 -0.576386 -0.389911  ...     -1.366741         -0.189777   \n",
       " 1       0.188526 -0.576359 -0.389942  ...     -0.318618         -0.189777   \n",
       " 2      -0.012142 -0.576748 -0.389978  ...     -0.318618         -0.189777   \n",
       " 3      -0.098568 -0.576751 -0.389972  ...     -0.318618         -0.189777   \n",
       " 4      -0.102062 -0.576632 -0.389941  ...     -0.318618         -0.189777   \n",
       " ...          ...       ...       ...  ...           ...               ...   \n",
       " 175320 -0.103928  0.094914 -0.121004  ...      0.729504         -0.189777   \n",
       " 175321 -0.101463 -0.576630 -0.389940  ...     -0.318618         -0.189777   \n",
       " 175322 -0.103928  0.094914 -0.121004  ...      0.729504         -0.189777   \n",
       " 175323 -0.103928  0.094914 -0.121004  ...      0.729504         -0.189777   \n",
       " 175324 -0.103928  0.094914 -0.121004  ...      0.729504         -0.189777   \n",
       " \n",
       "         ct_ftp_cmd  ct_srv_src  ct_srv_dst  ct_dst_ltm  ct_src_ltm  \\\n",
       " 0        -0.118596   -0.775963   -0.753048   -0.645011   -0.715715   \n",
       " 1        -0.118596    3.147575   -0.288245   -0.645011   -0.715715   \n",
       " 2        -0.118596   -0.215457   -0.288245   -0.520830   -0.595549   \n",
       " 3         7.814553   -0.775963   -0.753048   -0.520830   -0.595549   \n",
       " 4        -0.118596    3.147575    2.779452   -0.520830   -0.595549   \n",
       " ...            ...         ...         ...         ...         ...   \n",
       " 175320   -0.118596    1.372641    1.385044    2.211150    2.048117   \n",
       " 175321   -0.118596   -0.775963   -0.753048   -0.645011   -0.715715   \n",
       " 175322   -0.118596    0.251630    0.269518   -0.396649   -0.475382   \n",
       " 175323   -0.118596    1.933146    1.942807    2.956235    2.769116   \n",
       " 175324   -0.118596    1.933146    1.942807    2.956235    2.769116   \n",
       " \n",
       "         ct_src_dport_ltm  ct_dst_sport_ltm  ct_dst_src_ltm  \n",
       " 0              -0.544741         -0.554406       -0.705501  \n",
       " 1              -0.544741         -0.554406       -0.614231  \n",
       " 2              -0.544741         -0.554406       -0.522961  \n",
       " 3              -0.544741         -0.554406       -0.522961  \n",
       " 4              -0.420477         -0.554406        2.854030  \n",
       " ...                  ...               ...             ...  \n",
       " 175320          2.313330          1.520372        1.393710  \n",
       " 175321         -0.544741         -0.554406       -0.614231  \n",
       " 175322         -0.296214         -0.208610        0.389739  \n",
       " 175323          3.058913          1.693270        1.941330  \n",
       " 175324          3.058913          2.039066        1.941330  \n",
       " \n",
       " [175325 rows x 40 columns],\n",
       " array([6, 6, 6, ..., 5, 5, 5]),\n",
       "             dur     proto   service     state     spkts     dpkts    sbytes  \\\n",
       " 0     -0.209780  0.420230 -0.702355  0.743174 -0.133681 -0.172054 -0.047774   \n",
       " 1     -0.209781  0.420230 -0.702355  0.743174 -0.133681 -0.172054 -0.040530   \n",
       " 2     -0.209781  0.420230 -0.702355  0.743174 -0.133681 -0.172054 -0.044501   \n",
       " 3     -0.209781  0.420230 -0.702355  0.743174 -0.133681 -0.172054 -0.045462   \n",
       " 4     -0.209780  0.420230 -0.702355  0.743174 -0.133681 -0.172054 -0.038448   \n",
       " ...         ...       ...       ...       ...       ...       ...       ...   \n",
       " 82305 -0.209781  0.420230 -0.702355  0.743174 -0.133681 -0.172054 -0.050017   \n",
       " 82306 -0.039101  0.151816 -0.702355 -0.409407 -0.002192 -0.099500  0.052734   \n",
       " 82307 -0.209782 -4.634899 -0.702355  0.743174 -0.140986 -0.172054 -0.050349   \n",
       " 82308 -0.209782 -4.634899 -0.702355  0.743174 -0.140986 -0.172054 -0.050349   \n",
       " 82309 -0.209780  0.420230 -0.702355  0.743174 -0.133681 -0.172054 -0.050017   \n",
       " \n",
       "          dbytes      rate     sload  ...  ct_state_ttl  ct_flw_http_mthd  \\\n",
       " 0     -0.103928 -0.027222  0.567538  ...      0.729504         -0.189777   \n",
       " 1     -0.103928  0.178883  4.287116  ...      0.729504         -0.189777   \n",
       " 2     -0.103928  0.632313  4.145901  ...      0.729504         -0.189777   \n",
       " 3     -0.103928  0.430788  2.795327  ...      0.729504         -0.189777   \n",
       " 4     -0.103928  0.027740  4.124665  ...      0.729504         -0.189777   \n",
       " ...         ...       ...       ...  ...           ...               ...   \n",
       " 82305 -0.103928  0.632313  0.051710  ...      0.729504         -0.189777   \n",
       " 82306 -0.101463 -0.576686 -0.389328  ...     -0.318618         -0.189777   \n",
       " 82307 -0.103928 -0.576833 -0.389986  ...      0.729504         -0.189777   \n",
       " 82308 -0.103928 -0.576833 -0.389986  ...      0.729504         -0.189777   \n",
       " 82309 -0.103928  0.094914 -0.144599  ...      0.729504         -0.189777   \n",
       " \n",
       "        ct_ftp_cmd  ct_srv_src  ct_srv_dst  ct_dst_ltm  ct_src_ltm  \\\n",
       " 0       -0.118596   -0.682545   -0.660087   -0.645011   -0.715715   \n",
       " 1       -0.118596   -0.682545   -0.660087   -0.645011   -0.715715   \n",
       " 2       -0.118596   -0.589128   -0.567127   -0.645011   -0.715715   \n",
       " 3       -0.118596   -0.589128   -0.567127   -0.520830   -0.595549   \n",
       " 4       -0.118596   -0.589128   -0.567127   -0.520830   -0.595549   \n",
       " ...           ...         ...         ...         ...         ...   \n",
       " 82305   -0.118596   -0.775963   -0.753048   -0.520830   -0.595549   \n",
       " 82306   -0.118596   -0.775963   -0.660087   -0.520830   -0.475382   \n",
       " 82307   -0.118596   -0.775963   -0.753048   -0.645011   -0.715715   \n",
       " 82308   -0.118596   -0.775963   -0.753048   -0.645011   -0.715715   \n",
       " 82309   -0.118596   -0.775963   -0.753048   -0.645011   -0.715715   \n",
       " \n",
       "        ct_src_dport_ltm  ct_dst_sport_ltm  ct_dst_src_ltm  \n",
       " 0             -0.544741         -0.554406       -0.614231  \n",
       " 1             -0.544741         -0.554406       -0.614231  \n",
       " 2             -0.544741         -0.554406       -0.522961  \n",
       " 3             -0.420477         -0.554406       -0.522961  \n",
       " 4             -0.420477         -0.554406       -0.522961  \n",
       " ...                 ...               ...             ...  \n",
       " 82305         -0.544741         -0.554406       -0.614231  \n",
       " 82306         -0.544741         -0.554406       -0.705501  \n",
       " 82307         -0.544741         -0.554406       -0.705501  \n",
       " 82308         -0.544741         -0.554406       -0.705501  \n",
       " 82309         -0.544741         -0.554406       -0.705501  \n",
       " \n",
       " [82310 rows x 40 columns],\n",
       " array([6, 6, 6, ..., 6, 6, 6]),\n",
       " LabelEncoder())"
      ]
     },
     "execution_count": 7,
     "metadata": {},
     "output_type": "execute_result"
    }
   ],
   "source": [
    "synthetic_data"
   ]
  },
  {
   "cell_type": "code",
   "execution_count": null,
   "metadata": {},
   "outputs": [],
   "source": []
  }
 ],
 "metadata": {
  "kernelspec": {
   "display_name": ".venv",
   "language": "python",
   "name": "python3"
  },
  "language_info": {
   "codemirror_mode": {
    "name": "ipython",
    "version": 3
   },
   "file_extension": ".py",
   "mimetype": "text/x-python",
   "name": "python",
   "nbconvert_exporter": "python",
   "pygments_lexer": "ipython3",
   "version": "3.9.6"
  }
 },
 "nbformat": 4,
 "nbformat_minor": 2
}
