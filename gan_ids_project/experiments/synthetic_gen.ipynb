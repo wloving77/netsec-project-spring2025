{
 "cells": [
  {
   "cell_type": "code",
   "execution_count": 11,
   "metadata": {},
   "outputs": [],
   "source": [
    "import os, sys, warnings\n",
    "from pathlib import Path\n",
    "\n",
    "warnings.filterwarnings(\"ignore\", category=UserWarning)\n",
    "warnings.filterwarnings(\"ignore\", category=FutureWarning)\n",
    "\n",
    "parent_dir = Path().resolve().parents[0]\n",
    "sys.path.append(str(parent_dir))"
   ]
  },
  {
   "cell_type": "code",
   "execution_count": 12,
   "metadata": {},
   "outputs": [],
   "source": [
    "from src.utils.utils import load_data, make_synthetic_data, train_and_evaluate_model\n",
    "from src.gan.models import NetworkAnomalyDetector, DeeperNetworkAnomalyDetector\n",
    "from src.gan.data_augmentors import CTGANAugmentor, TVAEAugmentor"
   ]
  },
  {
   "cell_type": "code",
   "execution_count": 13,
   "metadata": {},
   "outputs": [],
   "source": [
    "datasets = [\"NF-ToN-IoT\", \"UNSW-NB15\"]\n",
    "target_variable = \"Attack\"\n",
    "\n",
    "X_train_NF, X_test_NF, y_train_NF, y_test_NF = load_data(datasets[0], target_variable)\n",
    "X_train_UNSW, X_test_UNSW, y_train_UNSW, y_test_UNSW = load_data(datasets[1], target_variable)"
   ]
  },
  {
   "cell_type": "code",
   "execution_count": 14,
   "metadata": {},
   "outputs": [],
   "source": [
    "augmentor_ctgan = TVAEAugmentor()\n",
    "augmentor_ctgan.minority_threshold = 20000"
   ]
  },
  {
   "cell_type": "code",
   "execution_count": 15,
   "metadata": {},
   "outputs": [],
   "source": [
    "model_type = DeeperNetworkAnomalyDetector"
   ]
  },
  {
   "cell_type": "code",
   "execution_count": 16,
   "metadata": {},
   "outputs": [
    {
     "name": "stdout",
     "output_type": "stream",
     "text": [
      "Generating synthetic data for category: scanning\n",
      "Generating synthetic data for category: backdoor\n",
      "Generating synthetic data for category: dos\n",
      "Generating synthetic data for category: mitm\n",
      "Generating synthetic data for category: ransomware\n",
      "Size of synthetic data: (54963, 11)\n"
     ]
    }
   ],
   "source": [
    "synthetic_data_NF = make_synthetic_data(\n",
    "    X_train_NF,\n",
    "    y_train_NF,\n",
    "    X_test_NF,\n",
    "    y_test_NF,\n",
    "    target_variable,\n",
    "    dataset=datasets[0],\n",
    "    gan_augmentor=augmentor_ctgan)"
   ]
  },
  {
   "cell_type": "code",
   "execution_count": null,
   "metadata": {},
   "outputs": [
    {
     "name": "stdout",
     "output_type": "stream",
     "text": [
      "Generating synthetic data for category: Fuzzers\n",
      "Generating synthetic data for category: DoS\n"
     ]
    }
   ],
   "source": [
    "synthetic_data_UNSW = make_synthetic_data(\n",
    "    X_train_UNSW,\n",
    "    y_train_UNSW,\n",
    "    X_test_UNSW,\n",
    "    y_test_UNSW,\n",
    "    target_variable,\n",
    "    dataset=datasets[1],\n",
    "    gan_augmentor=augmentor_ctgan)"
   ]
  },
  {
   "cell_type": "code",
   "execution_count": null,
   "metadata": {},
   "outputs": [],
   "source": []
  }
 ],
 "metadata": {
  "kernelspec": {
   "display_name": ".venv",
   "language": "python",
   "name": "python3"
  },
  "language_info": {
   "codemirror_mode": {
    "name": "ipython",
    "version": 3
   },
   "file_extension": ".py",
   "mimetype": "text/x-python",
   "name": "python",
   "nbconvert_exporter": "python",
   "pygments_lexer": "ipython3",
   "version": "3.9.6"
  }
 },
 "nbformat": 4,
 "nbformat_minor": 2
}
