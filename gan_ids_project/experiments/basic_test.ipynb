{
 "cells": [
  {
   "cell_type": "code",
   "execution_count": 1,
   "metadata": {},
   "outputs": [],
   "source": [
    "import os, sys, warnings\n",
    "\n",
    "cur_dir = os.path.dirname(os.getcwd())\n",
    "sys.path.append(cur_dir)\n",
    "\n",
    "from src.utils import load_data, process_data, train_and_evaluate_model\n"
   ]
  },
  {
   "cell_type": "code",
   "execution_count": 2,
   "metadata": {},
   "outputs": [],
   "source": [
    "warnings.filterwarnings(\"ignore\", category=UserWarning)\n",
    "warnings.filterwarnings(\"ignore\", category=FutureWarning)"
   ]
  },
  {
   "cell_type": "code",
   "execution_count": 3,
   "metadata": {},
   "outputs": [],
   "source": [
    "\n",
    "os.environ[\"CUDA_VISIBLE_DEVICES\"] = \"-1\"\n",
    "\n",
    "BASE_DATA_DIR = os.path.dirname(os.getcwd())\n",
    "df_train, df_test = load_data(base_data_dir=BASE_DATA_DIR)\n",
    "target_variable = 'attack_cat'"
   ]
  },
  {
   "cell_type": "markdown",
   "metadata": {},
   "source": [
    "# Testing multiclass"
   ]
  },
  {
   "cell_type": "code",
   "execution_count": 4,
   "metadata": {},
   "outputs": [
    {
     "name": "stdout",
     "output_type": "stream",
     "text": [
      "number of classes: 10\n",
      "Training model Without Synthetic Data using Cross Entropy\n",
      "Epoch 1/15, Loss: 0.6669\n",
      "Epoch 2/15, Loss: 0.5560\n",
      "Epoch 3/15, Loss: 0.5290\n",
      "Epoch 4/15, Loss: 0.5123\n",
      "Epoch 5/15, Loss: 0.5015\n",
      "Epoch 6/15, Loss: 0.4936\n",
      "Epoch 7/15, Loss: 0.4872\n",
      "Epoch 8/15, Loss: 0.4822\n",
      "Epoch 9/15, Loss: 0.4781\n",
      "Epoch 10/15, Loss: 0.4752\n",
      "Epoch 11/15, Loss: 0.4719\n",
      "Epoch 12/15, Loss: 0.4695\n",
      "Epoch 13/15, Loss: 0.4673\n",
      "Epoch 14/15, Loss: 0.4649\n",
      "Epoch 15/15, Loss: 0.4631\n",
      "\n",
      "Test Accuracy: 74.95%\n",
      "\n",
      "Classification Report:\n",
      "                precision    recall  f1-score   support\n",
      "\n",
      "      Analysis       0.00      0.00      0.00       677\n",
      "      Backdoor       0.02      0.01      0.01       583\n",
      "           DoS       0.43      0.18      0.25      4089\n",
      "      Exploits       0.59      0.83      0.69     11132\n",
      "       Fuzzers       0.27      0.63      0.38      6062\n",
      "       Generic       1.00      0.96      0.98     18871\n",
      "        Normal       0.96      0.73      0.83     36978\n",
      "Reconnaissance       0.70      0.81      0.75      3496\n",
      "     Shellcode       0.32      0.60      0.42       378\n",
      "         Worms       0.00      0.00      0.00        44\n",
      "\n",
      "      accuracy                           0.75     82310\n",
      "     macro avg       0.43      0.47      0.43     82310\n",
      "  weighted avg       0.81      0.75      0.76     82310\n",
      "\n"
     ]
    }
   ],
   "source": [
    "# without synthetic augmentation\n",
    "X_train_base, y_train_base, X_test_base, y_test_base, le_target = process_data(\n",
    "    df_train, \n",
    "    df_test, \n",
    "    target_variable=target_variable, \n",
    "    use_synthetic=False\n",
    ")\n",
    "\n",
    "model_base = train_and_evaluate_model(\n",
    "    X_train_base, \n",
    "    y_train_base, \n",
    "    X_test_base, \n",
    "    y_test_base, \n",
    "    le_target,\n",
    "    model_label=\"Without Synthetic Data\",\n",
    "    epochs = 15\n",
    ")"
   ]
  },
  {
   "cell_type": "code",
   "execution_count": 5,
   "metadata": {},
   "outputs": [
    {
     "name": "stdout",
     "output_type": "stream",
     "text": [
      "Generating synthetic data for category:  Analysis\n",
      "Metadata error for Analysis: Invalid sdtype: 'integer' is not recognized. Please use one of the supported SDV sdtypes.\n",
      "Generating synthetic data for category:  Backdoor\n",
      "Metadata error for Backdoor: Invalid sdtype: 'integer' is not recognized. Please use one of the supported SDV sdtypes.\n",
      "Generating synthetic data for category:  Shellcode\n",
      "Metadata error for Shellcode: Invalid sdtype: 'integer' is not recognized. Please use one of the supported SDV sdtypes.\n",
      "Generating synthetic data for category:  Worms\n",
      "Metadata error for Worms: Invalid sdtype: 'integer' is not recognized. Please use one of the supported SDV sdtypes.\n",
      "number of classes: 10\n",
      "Training model With Synthetic Data using Cross Entropy\n",
      "Epoch 1/15, Loss: 0.6737\n",
      "Epoch 2/15, Loss: 0.5581\n",
      "Epoch 3/15, Loss: 0.5325\n",
      "Epoch 4/15, Loss: 0.5169\n",
      "Epoch 5/15, Loss: 0.5077\n",
      "Epoch 6/15, Loss: 0.4996\n",
      "Epoch 7/15, Loss: 0.4932\n",
      "Epoch 8/15, Loss: 0.4881\n",
      "Epoch 9/15, Loss: 0.4835\n",
      "Epoch 10/15, Loss: 0.4792\n",
      "Epoch 11/15, Loss: 0.4764\n",
      "Epoch 12/15, Loss: 0.4736\n",
      "Epoch 13/15, Loss: 0.4703\n",
      "Epoch 14/15, Loss: 0.4683\n",
      "Epoch 15/15, Loss: 0.4664\n",
      "\n",
      "Test Accuracy: 76.53%\n",
      "\n",
      "Classification Report:\n",
      "                precision    recall  f1-score   support\n",
      "\n",
      "      Analysis       0.00      0.00      0.00       677\n",
      "      Backdoor       0.53      0.01      0.03       583\n",
      "           DoS       0.39      0.02      0.04      4089\n",
      "      Exploits       0.55      0.90      0.69     11132\n",
      "       Fuzzers       0.30      0.48      0.37      6062\n",
      "       Generic       1.00      0.95      0.97     18871\n",
      "        Normal       0.93      0.79      0.85     36978\n",
      "Reconnaissance       0.73      0.80      0.77      3496\n",
      "     Shellcode       0.31      0.55      0.40       378\n",
      "         Worms       0.00      0.00      0.00        44\n",
      "\n",
      "      accuracy                           0.77     82310\n",
      "     macro avg       0.48      0.45      0.41     82310\n",
      "  weighted avg       0.80      0.77      0.76     82310\n",
      "\n"
     ]
    }
   ],
   "source": [
    "# with synthetic augmentation from CTGAN\n",
    "X_train_ctgan, y_train_ctgan, X_test_ctgan, y_test_ctgan, le_target = process_data(\n",
    "    df_train, \n",
    "    df_test, \n",
    "    target_variable=target_variable, \n",
    "    use_synthetic=True,\n",
    "    gan_augmentor=\"CTGAN\"\n",
    ")\n",
    "    \n",
    "model_syn = train_and_evaluate_model(\n",
    "    X_train_ctgan, \n",
    "    y_train_ctgan, \n",
    "    X_test_ctgan, \n",
    "    y_test_ctgan, \n",
    "    le_target,\n",
    "    model_label=\"With Synthetic Data\",\n",
    "    epochs = 15\n",
    ")"
   ]
  },
  {
   "cell_type": "code",
   "execution_count": 6,
   "metadata": {},
   "outputs": [
    {
     "name": "stdout",
     "output_type": "stream",
     "text": [
      "Metadata error for Analysis: Invalid sdtype: 'integer' is not recognized. Please use one of the supported SDV sdtypes.\n",
      "Metadata error for Backdoor: Invalid sdtype: 'integer' is not recognized. Please use one of the supported SDV sdtypes.\n",
      "Metadata error for Shellcode: Invalid sdtype: 'integer' is not recognized. Please use one of the supported SDV sdtypes.\n",
      "Metadata error for Worms: Invalid sdtype: 'integer' is not recognized. Please use one of the supported SDV sdtypes.\n",
      "number of classes: 10\n",
      "Training model With Synthetic Data (TVAE) using Cross Entropy\n",
      "Epoch 1/15, Loss: 0.6661\n",
      "Epoch 2/15, Loss: 0.5573\n",
      "Epoch 3/15, Loss: 0.5315\n",
      "Epoch 4/15, Loss: 0.5161\n",
      "Epoch 5/15, Loss: 0.5050\n",
      "Epoch 6/15, Loss: 0.4971\n",
      "Epoch 7/15, Loss: 0.4919\n",
      "Epoch 8/15, Loss: 0.4856\n",
      "Epoch 9/15, Loss: 0.4821\n",
      "Epoch 10/15, Loss: 0.4781\n",
      "Epoch 11/15, Loss: 0.4750\n",
      "Epoch 12/15, Loss: 0.4724\n",
      "Epoch 13/15, Loss: 0.4701\n",
      "Epoch 14/15, Loss: 0.4673\n",
      "Epoch 15/15, Loss: 0.4656\n",
      "\n",
      "Test Accuracy: 75.12%\n",
      "\n",
      "Classification Report:\n",
      "                precision    recall  f1-score   support\n",
      "\n",
      "      Analysis       0.00      0.00      0.00       677\n",
      "      Backdoor       0.58      0.01      0.02       583\n",
      "           DoS       0.52      0.02      0.04      4089\n",
      "      Exploits       0.54      0.92      0.68     11132\n",
      "       Fuzzers       0.28      0.52      0.37      6062\n",
      "       Generic       1.00      0.95      0.98     18871\n",
      "        Normal       0.96      0.74      0.83     36978\n",
      "Reconnaissance       0.72      0.80      0.75      3496\n",
      "     Shellcode       0.22      0.58      0.32       378\n",
      "         Worms       0.00      0.00      0.00        44\n",
      "\n",
      "      accuracy                           0.75     82310\n",
      "     macro avg       0.48      0.45      0.40     82310\n",
      "  weighted avg       0.81      0.75      0.75     82310\n",
      "\n"
     ]
    }
   ],
   "source": [
    "# with synthetic augmentation from TVAE\n",
    "X_train_tvae, y_train_tvae, X_test_tvae, y_test_tvae, le_target = process_data(\n",
    "    df_train, \n",
    "    df_test, \n",
    "    target_variable=target_variable, \n",
    "    use_synthetic=True,\n",
    "    gan_augmentor=\"TVAE\"\n",
    ")\n",
    "\n",
    "model_tvae = train_and_evaluate_model(\n",
    "    X_train_tvae, \n",
    "    y_train_tvae, \n",
    "    X_test_tvae, \n",
    "    y_test_tvae, \n",
    "    le_target,\n",
    "    model_label=\"With Synthetic Data (TVAE)\",\n",
    "    epochs = 15\n",
    ")"
   ]
  },
  {
   "cell_type": "markdown",
   "metadata": {},
   "source": [
    "# Testing Binary Classes"
   ]
  },
  {
   "cell_type": "code",
   "execution_count": 7,
   "metadata": {},
   "outputs": [
    {
     "name": "stdout",
     "output_type": "stream",
     "text": [
      "number of classes: 2\n",
      "Training model With Synthetic Data using Binary Cross Entropy with Logits\n",
      "Epoch 1/15, Loss: 0.1537\n",
      "Epoch 2/15, Loss: 0.1275\n",
      "Epoch 3/15, Loss: 0.1219\n",
      "Epoch 4/15, Loss: 0.1188\n",
      "Epoch 5/15, Loss: 0.1163\n",
      "Epoch 6/15, Loss: 0.1146\n",
      "Epoch 7/15, Loss: 0.1130\n",
      "Epoch 8/15, Loss: 0.1117\n",
      "Epoch 9/15, Loss: 0.1105\n",
      "Epoch 10/15, Loss: 0.1099\n",
      "Epoch 11/15, Loss: 0.1096\n",
      "Epoch 12/15, Loss: 0.1079\n",
      "Epoch 13/15, Loss: 0.1073\n",
      "Epoch 14/15, Loss: 0.1066\n",
      "Epoch 15/15, Loss: 0.1063\n",
      "\n",
      "Test Accuracy: 84.77%\n",
      "\n",
      "Classification Report:\n",
      "              precision    recall  f1-score   support\n",
      "\n",
      "           0       0.96      0.69      0.80     36978\n",
      "           1       0.79      0.98      0.88     45332\n",
      "\n",
      "    accuracy                           0.85     82310\n",
      "   macro avg       0.88      0.83      0.84     82310\n",
      "weighted avg       0.87      0.85      0.84     82310\n",
      "\n"
     ]
    }
   ],
   "source": [
    "# with synthetic augmentation from CTGAN\n",
    "X_train_ctgan, y_train_ctgan, X_test_ctgan, y_test_ctgan, le_target = process_data(\n",
    "    df_train, \n",
    "    df_test, \n",
    "    target_variable='label', \n",
    "    use_synthetic=True,\n",
    "    gan_augmentor=\"CTGAN\"\n",
    ")\n",
    "    \n",
    "model_syn = train_and_evaluate_model(\n",
    "    X_train_ctgan, \n",
    "    y_train_ctgan, \n",
    "    X_test_ctgan, \n",
    "    y_test_ctgan, \n",
    "    le_target,\n",
    "    model_label=\"With Synthetic Data\",\n",
    "    epochs = 15\n",
    ")"
   ]
  },
  {
   "cell_type": "code",
   "execution_count": null,
   "metadata": {},
   "outputs": [
    {
     "name": "stdout",
     "output_type": "stream",
     "text": [
      "number of classes: 2\n",
      "Training model With Synthetic Data using Binary Cross Entropy with Logits\n",
      "Epoch 1/15, Loss: 0.1533\n"
     ]
    }
   ],
   "source": [
    "# with synthetic augmentation from CTGAN\n",
    "X_train_ctgan, y_train_ctgan, X_test_ctgan, y_test_ctgan, le_target = process_data(\n",
    "    df_train, \n",
    "    df_test, \n",
    "    target_variable='label', \n",
    "    use_synthetic=True,\n",
    "    gan_augmentor=\"CTGAN\"\n",
    ")\n",
    "    \n",
    "model_syn = train_and_evaluate_model(\n",
    "    X_train_ctgan, \n",
    "    y_train_ctgan, \n",
    "    X_test_ctgan, \n",
    "    y_test_ctgan, \n",
    "    le_target,\n",
    "    model_label=\"With Synthetic Data\",\n",
    "    epochs = 15\n",
    ")"
   ]
  },
  {
   "cell_type": "code",
   "execution_count": null,
   "metadata": {},
   "outputs": [
    {
     "name": "stdout",
     "output_type": "stream",
     "text": [
      "number of classes: 2\n",
      "Training model With Synthetic Data (TVAE) using Binary Cross Entropy with Logits\n",
      "Epoch 1/15, Loss: 0.1588\n",
      "Epoch 2/15, Loss: 0.1308\n",
      "Epoch 3/15, Loss: 0.1263\n",
      "Epoch 4/15, Loss: 0.1232\n",
      "Epoch 5/15, Loss: 0.1203\n",
      "Epoch 6/15, Loss: 0.1178\n",
      "Epoch 7/15, Loss: 0.1164\n",
      "Epoch 8/15, Loss: 0.1149\n",
      "Epoch 9/15, Loss: 0.1137\n",
      "Epoch 10/15, Loss: 0.1126\n",
      "Epoch 11/15, Loss: 0.1121\n",
      "Epoch 12/15, Loss: 0.1114\n",
      "Epoch 13/15, Loss: 0.1109\n",
      "Epoch 14/15, Loss: 0.1100\n",
      "Epoch 15/15, Loss: 0.1096\n",
      "\n",
      "Test Accuracy: 85.11%\n",
      "\n",
      "Classification Report:\n",
      "              precision    recall  f1-score   support\n",
      "\n",
      "           0       0.96      0.70      0.81     36978\n",
      "           1       0.80      0.98      0.88     45332\n",
      "\n",
      "    accuracy                           0.85     82310\n",
      "   macro avg       0.88      0.84      0.84     82310\n",
      "weighted avg       0.87      0.85      0.85     82310\n",
      "\n"
     ]
    },
    {
     "data": {
      "image/png": "[encoded data removed]",
      "text/plain": [
       "<Figure size 1200x1000 with 2 Axes>"
      ]
     },
     "metadata": {},
     "output_type": "display_data"
    }
   ],
   "source": [
    "# with synthetic augmentation from TVAE\n",
    "X_train_tvae, y_train_tvae, X_test_tvae, y_test_tvae, le_target = process_data(\n",
    "    df_train, \n",
    "    df_test, \n",
    "    target_variable='label', \n",
    "    use_synthetic=True,\n",
    "    gan_augmentor=\"TVAE\"\n",
    ")\n",
    "\n",
    "model_tvae = train_and_evaluate_model(\n",
    "    X_train_tvae, \n",
    "    y_train_tvae, \n",
    "    X_test_tvae, \n",
    "    y_test_tvae, \n",
    "    le_target,\n",
    "    model_label=\"With Synthetic Data (TVAE)\",\n",
    "    epochs = 15\n",
    ")"
   ]
  }
 ],
 "metadata": {
  "kernelspec": {
   "display_name": ".venv",
   "language": "python",
   "name": "python3"
  },
  "language_info": {
   "codemirror_mode": {
    "name": "ipython",
    "version": 3
   },
   "file_extension": ".py",
   "mimetype": "text/x-python",
   "name": "python",
   "nbconvert_exporter": "python",
   "pygments_lexer": "ipython3",
   "version": "3.11.5"
  }
 },
 "nbformat": 4,
 "nbformat_minor": 2
}
