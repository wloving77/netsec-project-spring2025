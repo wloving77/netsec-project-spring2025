{
 "cells": [
  {
   "cell_type": "code",
   "execution_count": null,
   "metadata": {},
   "outputs": [],
   "source": [
    "import os, sys, warnings\n",
    "from pathlib import Path\n",
    "\n",
    "warnings.filterwarnings(\"ignore\", category=UserWarning)\n",
    "warnings.filterwarnings(\"ignore\", category=FutureWarning)\n",
    "\n",
    "parent_dir = Path().resolve().parents[0]\n",
    "sys.path.append(str(parent_dir))"
   ]
  },
  {
   "cell_type": "code",
   "execution_count": null,
   "metadata": {},
   "outputs": [],
   "source": [
    "from src.utils.utils import load_data, make_synthetic_data, train_and_evaluate_model\n",
    "from src.gan.models import NetworkAnomalyDetector, DeeperNetworkAnomalyDetector\n",
    "from src.gan.data_augmentors import CTGANAugmentor, TVAEAugmentor"
   ]
  },
  {
   "cell_type": "markdown",
   "metadata": {},
   "source": [
    "# UNSW-NB15 Dataset"
   ]
  },
  {
   "cell_type": "markdown",
   "metadata": {},
   "source": [
    "## Binary"
   ]
  },
  {
   "cell_type": "code",
   "execution_count": null,
   "metadata": {},
   "outputs": [],
   "source": [
    "dataset = \"UNSW-NB15\"                       # \"UNSW-NB15\" is smaller, \"NF-ToN-IoT-v1\" is larger\n",
    "target_variable = 'Label'                  #  \"Label\" for binary, \"Attack\" for multi class\n",
    "augmentor_ctgan = CTGANAugmentor()\n",
    "augmentor_ctgan.minority_threshold = 100000\n",
    "\n",
    "augmentor_tvae = TVAEAugmentor()\n",
    "augmentor_tvae.minority_threshold = 100000\n",
    "\n",
    "augmentors = [None, augmentor_ctgan, augmentor_tvae] \n",
    "model_type = DeeperNetworkAnomalyDetector   # NetworkAnomalyDetector, DeeperNetworkAnomalyDetector\n",
    "\n",
    "X_train, X_test, y_train, y_test = load_data(dataset, target_variable)\n",
    "\n",
    "for augmentor in augmentors:\n",
    "    X_train_tvae, y_train_tvae, X_test_tvae, y_test_tvae, le_target = make_synthetic_data(\n",
    "        X_train,\n",
    "        y_train,\n",
    "        X_test,\n",
    "        y_test, \n",
    "        target_variable, \n",
    "        gan_augmentor=augmentor, \n",
    "    )\n",
    "\n",
    "    model_tvae = train_and_evaluate_model(\n",
    "        X_train_tvae, \n",
    "        y_train_tvae, \n",
    "        X_test_tvae, \n",
    "        y_test_tvae, \n",
    "        le_target,\n",
    "        model=model_type\n",
    "    )"
   ]
  },
  {
   "cell_type": "markdown",
   "metadata": {},
   "source": [
    "# Multiclass"
   ]
  },
  {
   "cell_type": "code",
   "execution_count": null,
   "metadata": {},
   "outputs": [],
   "source": [
    "dataset = \"UNSW-NB15\"                       # \"UNSW-NB15\" is smaller, \"NF-ToN-IoT-v1\" is larger\n",
    "target_variable = 'Attack'                  #  \"Label\" for binary, \"Attack\" for multi class\n",
    "augmentor_ctgan = CTGANAugmentor()\n",
    "augmentor_ctgan.minority_threshold = 15000\n",
    "\n",
    "augmentor_tvae = TVAEAugmentor()\n",
    "augmentor_tvae.minority_threshold = 15000\n",
    "\n",
    "augmentors = [None, augmentor_ctgan, augmentor_tvae] \n",
    "model_type = DeeperNetworkAnomalyDetector   # NetworkAnomalyDetector, DeeperNetworkAnomalyDetector\n",
    "\n",
    "X_train, X_test, y_train, y_test = load_data(dataset, target_variable)\n",
    "\n",
    "for augmentor in augmentors:\n",
    "    X_train_tvae, y_train_tvae, X_test_tvae, y_test_tvae, le_target = make_synthetic_data(\n",
    "        X_train,\n",
    "        y_train,\n",
    "        X_test,\n",
    "        y_test, \n",
    "        target_variable, \n",
    "        gan_augmentor=augmentor, \n",
    "    )\n",
    "\n",
    "    model_tvae = train_and_evaluate_model(\n",
    "        X_train_tvae, \n",
    "        y_train_tvae, \n",
    "        X_test_tvae, \n",
    "        y_test_tvae, \n",
    "        le_target,\n",
    "        model=model_type\n",
    "    )"
   ]
  },
  {
   "cell_type": "markdown",
   "metadata": {},
   "source": [
    "# NF-ToN-IoT-v1 Dataset"
   ]
  },
  {
   "cell_type": "markdown",
   "metadata": {},
   "source": [
    "## Binary"
   ]
  },
  {
   "cell_type": "code",
   "execution_count": null,
   "metadata": {},
   "outputs": [],
   "source": [
    "dataset = \"NF-ToN-IoT\"                   # \"UNSW-NB15\" is smaller, \"NF-ToN-IoT-v1\" is larger\n",
    "target_variable = 'Label'                   #  \"Label\" for binary, \"Attack\" for multi class\n",
    "augmentor_ctgan = CTGANAugmentor()\n",
    "augmentor_ctgan.minority_threshold = 250000\n",
    "\n",
    "augmentor_tvae = TVAEAugmentor()\n",
    "augmentor_tvae.minority_threshold = 250000\n",
    "\n",
    "augmentors = [None, augmentor_ctgan, augmentor_tvae] \n",
    "model_type = DeeperNetworkAnomalyDetector           # NetworkAnomalyDetector, DeeperNetworkAnomalyDetector\n",
    "\n",
    "X_train, X_test, y_train, y_test = load_data(dataset, target_variable)\n",
    "\n",
    "\n",
    "for augmentor in augmentors:\n",
    "    X_train_tvae, y_train_tvae, X_test_tvae, y_test_tvae, le_target = make_synthetic_data(\n",
    "        X_train,\n",
    "        y_train,\n",
    "        X_test,\n",
    "        y_test, \n",
    "        target_variable, \n",
    "        gan_augmentor=augmentor, \n",
    "    )\n",
    "\n",
    "    model_tvae = train_and_evaluate_model(\n",
    "        X_train_tvae, \n",
    "        y_train_tvae, \n",
    "        X_test_tvae, \n",
    "        y_test_tvae, \n",
    "        le_target,\n",
    "        model=model_type\n",
    "    )"
   ]
  },
  {
   "cell_type": "markdown",
   "metadata": {},
   "source": [
    "## Multiclass"
   ]
  },
  {
   "cell_type": "code",
   "execution_count": null,
   "metadata": {},
   "outputs": [],
   "source": [
    "dataset = \"NF-ToN-IoT-v1\"                   # \"UNSW-NB15\" is smaller, \"NF-ToN-IoT-v1\" is larger\n",
    "target_variable = 'Attack'                  #  \"Label\" for binary, \"Attack\" for multi class\n",
    "augmentor_ctgan = CTGANAugmentor()\n",
    "augmentor_ctgan.minority_threshold = 50000\n",
    "\n",
    "augmentor_tvae = TVAEAugmentor()\n",
    "augmentor_tvae.minority_threshold = 50000\n",
    "\n",
    "augmentors = [None, augmentor_ctgan, augmentor_tvae] \n",
    "model_type = DeeperNetworkAnomalyDetector           # NetworkAnomalyDetector, DeeperNetworkAnomalyDetector\n",
    "\n",
    "X_train, X_test, y_train, y_test = load_data(dataset, target_variable)\n",
    "\n",
    "for augmentor in augmentors:\n",
    "    X_train_tvae, y_train_tvae, X_test_tvae, y_test_tvae, le_target = make_synthetic_data(\n",
    "        X_train,\n",
    "        y_train,\n",
    "        X_test,\n",
    "        y_test, \n",
    "        target_variable, \n",
    "        gan_augmentor=augmentor, \n",
    "    )\n",
    "\n",
    "    model_tvae = train_and_evaluate_model(\n",
    "        X_train_tvae, \n",
    "        y_train_tvae, \n",
    "        X_test_tvae, \n",
    "        y_test_tvae, \n",
    "        le_target,\n",
    "        model=model_type\n",
    "    )"
   ]
  }
 ],
 "metadata": {
  "kernelspec": {
   "display_name": ".venv",
   "language": "python",
   "name": "python3"
  },
  "language_info": {
   "codemirror_mode": {
    "name": "ipython",
    "version": 3
   },
   "file_extension": ".py",
   "mimetype": "text/x-python",
   "name": "python",
   "nbconvert_exporter": "python",
   "pygments_lexer": "ipython3",
   "version": "3.9.6"
  }
 },
 "nbformat": 4,
 "nbformat_minor": 2
}
